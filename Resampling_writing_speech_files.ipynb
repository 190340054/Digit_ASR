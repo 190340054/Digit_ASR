{
 "cells": [
  {
   "cell_type": "code",
   "execution_count": 4,
   "id": "cd358144",
   "metadata": {},
   "outputs": [
    {
     "name": "stdout",
     "output_type": "stream",
     "text": [
      "Requirement already satisfied: librosa in ./notebookenv/lib/python3.10/site-packages (0.10.0.post1)\n",
      "Requirement already satisfied: soundfile>=0.12.1 in ./notebookenv/lib/python3.10/site-packages (from librosa) (0.12.1)\n",
      "Requirement already satisfied: soxr>=0.3.2 in ./notebookenv/lib/python3.10/site-packages (from librosa) (0.3.4)\n",
      "Requirement already satisfied: joblib>=0.14 in ./notebookenv/lib/python3.10/site-packages (from librosa) (1.2.0)\n",
      "Requirement already satisfied: lazy-loader>=0.1 in ./notebookenv/lib/python3.10/site-packages (from librosa) (0.1)\n",
      "Requirement already satisfied: msgpack>=1.0 in ./notebookenv/lib/python3.10/site-packages (from librosa) (1.0.5)\n",
      "Requirement already satisfied: audioread>=2.1.9 in ./notebookenv/lib/python3.10/site-packages (from librosa) (3.0.0)\n",
      "Requirement already satisfied: numba>=0.51.0 in ./notebookenv/lib/python3.10/site-packages (from librosa) (0.56.4)\n",
      "Requirement already satisfied: scikit-learn>=0.20.0 in ./notebookenv/lib/python3.10/site-packages (from librosa) (1.2.2)\n",
      "Requirement already satisfied: numpy!=1.22.0,!=1.22.1,!=1.22.2,>=1.20.3 in ./notebookenv/lib/python3.10/site-packages (from librosa) (1.23.5)\n",
      "Requirement already satisfied: pooch>=1.0 in ./notebookenv/lib/python3.10/site-packages (from librosa) (1.7.0)\n",
      "Requirement already satisfied: typing-extensions>=4.1.1 in ./notebookenv/lib/python3.10/site-packages (from librosa) (4.5.0)\n",
      "Requirement already satisfied: decorator>=4.3.0 in ./notebookenv/lib/python3.10/site-packages (from librosa) (5.1.1)\n",
      "Requirement already satisfied: scipy>=1.2.0 in ./notebookenv/lib/python3.10/site-packages (from librosa) (1.10.1)\n",
      "Requirement already satisfied: llvmlite<0.40,>=0.39.0dev0 in ./notebookenv/lib/python3.10/site-packages (from numba>=0.51.0->librosa) (0.39.1)\n",
      "Requirement already satisfied: setuptools in ./notebookenv/lib/python3.10/site-packages (from numba>=0.51.0->librosa) (67.4.0)\n",
      "Requirement already satisfied: packaging>=20.0 in ./notebookenv/lib/python3.10/site-packages (from pooch>=1.0->librosa) (23.0)\n",
      "Requirement already satisfied: requests>=2.19.0 in ./notebookenv/lib/python3.10/site-packages (from pooch>=1.0->librosa) (2.28.2)\n",
      "Requirement already satisfied: platformdirs>=2.5.0 in ./notebookenv/lib/python3.10/site-packages (from pooch>=1.0->librosa) (3.1.1)\n",
      "Requirement already satisfied: threadpoolctl>=2.0.0 in ./notebookenv/lib/python3.10/site-packages (from scikit-learn>=0.20.0->librosa) (3.1.0)\n",
      "Requirement already satisfied: cffi>=1.0 in ./notebookenv/lib/python3.10/site-packages (from soundfile>=0.12.1->librosa) (1.15.1)\n",
      "Requirement already satisfied: pycparser in ./notebookenv/lib/python3.10/site-packages (from cffi>=1.0->soundfile>=0.12.1->librosa) (2.21)\n",
      "Requirement already satisfied: idna<4,>=2.5 in ./notebookenv/lib/python3.10/site-packages (from requests>=2.19.0->pooch>=1.0->librosa) (3.4)\n",
      "Requirement already satisfied: certifi>=2017.4.17 in ./notebookenv/lib/python3.10/site-packages (from requests>=2.19.0->pooch>=1.0->librosa) (2022.12.7)\n",
      "Requirement already satisfied: charset-normalizer<4,>=2 in ./notebookenv/lib/python3.10/site-packages (from requests>=2.19.0->pooch>=1.0->librosa) (3.1.0)\n",
      "Requirement already satisfied: urllib3<1.27,>=1.21.1 in ./notebookenv/lib/python3.10/site-packages (from requests>=2.19.0->pooch>=1.0->librosa) (1.26.15)\n"
     ]
    }
   ],
   "source": [
    "!pip install librosa"
   ]
  },
  {
   "cell_type": "code",
   "execution_count": 1,
   "id": "c9c8b9ae",
   "metadata": {},
   "outputs": [
    {
     "name": "stdout",
     "output_type": "stream",
     "text": [
      "22050\n",
      "[3.3612640e-05 1.2452155e-04 3.1451891e-05 ... 1.4458018e-04 1.1172865e-04\n",
      " 9.1143193e-05]\n"
     ]
    },
    {
     "ename": "TypeError",
     "evalue": "resample() takes 1 positional argument but 3 were given",
     "output_type": "error",
     "traceback": [
      "\u001b[0;31m---------------------------------------------------------------------------\u001b[0m",
      "\u001b[0;31mTypeError\u001b[0m                                 Traceback (most recent call last)",
      "Cell \u001b[0;32mIn[1], line 14\u001b[0m\n\u001b[1;32m     12\u001b[0m         \u001b[38;5;28mprint\u001b[39m(fs)\n\u001b[1;32m     13\u001b[0m         \u001b[38;5;28mprint\u001b[39m(audiofile)\n\u001b[0;32m---> 14\u001b[0m         data \u001b[38;5;241m=\u001b[39m \u001b[43mlibrosa\u001b[49m\u001b[38;5;241;43m.\u001b[39;49m\u001b[43mresample\u001b[49m\u001b[43m(\u001b[49m\u001b[43maudiofile\u001b[49m\u001b[43m,\u001b[49m\u001b[43m \u001b[49m\u001b[43mfs\u001b[49m\u001b[43m,\u001b[49m\u001b[43m \u001b[49m\u001b[43mresample_fs\u001b[49m\u001b[43m)\u001b[49m                     \u001b[38;5;66;03m# Resampling to 16000 Hz\u001b[39;00m\n\u001b[1;32m     15\u001b[0m         librosa\u001b[38;5;241m.\u001b[39moutput\u001b[38;5;241m.\u001b[39mwrite_wav(os\u001b[38;5;241m.\u001b[39mpath\u001b[38;5;241m.\u001b[39mjoin(dirname,filename), data, resample_fs)  \u001b[38;5;66;03m# Wave write after resampling\u001b[39;00m\n\u001b[1;32m     18\u001b[0m \u001b[38;5;28;01mfor\u001b[39;00m dirname, _,filenames \u001b[38;5;129;01min\u001b[39;00m os\u001b[38;5;241m.\u001b[39mwalk(r_dir):\n",
      "\u001b[0;31mTypeError\u001b[0m: resample() takes 1 positional argument but 3 were given"
     ]
    }
   ],
   "source": [
    "import os\n",
    "import librosa\n",
    "\n",
    "r_dir='/home/vishnu/Documents/Digit_data_train/train'\n",
    "\n",
    "resample_fs = 16000 \n",
    "\n",
    "for dirname, _,filenames in os.walk(r_dir):\n",
    "    filenames = sorted(filenames)\n",
    "    for filename in filenames:\n",
    "        audiofile, fs = librosa.load(os.path.join(dirname,filename))             # Join path with wavfile\n",
    "        print(fs)\n",
    "        print(audiofile)\n",
    "        data = librosa.resample(audiofile, fs, resample_fs)                     # Resampling to 16000 Hz\n",
    "        librosa.output.write_wav(os.path.join(dirname,filename), data, resample_fs)  # Wave write after resampling\n",
    "        \n",
    "        \n",
    "for dirname, _,filenames in os.walk(r_dir):\n",
    "    filenames = sorted(filenames)\n",
    "    for filename in filenames:\n",
    "        sr, audio   =  wavfile.read(os.path.join(dirname,filename))  # Join path with wavfile        \n",
    "        print(dirname,filename,sr,len(audio),audio)                  # Printing file path"
   ]
  },
  {
   "cell_type": "code",
   "execution_count": null,
   "id": "8b63bb3a",
   "metadata": {},
   "outputs": [],
   "source": []
  }
 ],
 "metadata": {
  "kernelspec": {
   "display_name": "Python 3 (ipykernel)",
   "language": "python",
   "name": "python3"
  },
  "language_info": {
   "codemirror_mode": {
    "name": "ipython",
    "version": 3
   },
   "file_extension": ".py",
   "mimetype": "text/x-python",
   "name": "python",
   "nbconvert_exporter": "python",
   "pygments_lexer": "ipython3",
   "version": "3.10.6"
  }
 },
 "nbformat": 4,
 "nbformat_minor": 5
}
