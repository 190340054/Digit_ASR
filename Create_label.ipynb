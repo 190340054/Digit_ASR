{
 "cells": [
  {
   "cell_type": "code",
   "execution_count": 3,
   "id": "3eef922e",
   "metadata": {},
   "outputs": [],
   "source": [
    "import os\n",
    "from pathlib import Path\n",
    "from scipy.io import wavfile\n",
    "\n",
    "hash = ['zero', 'one', 'two', 'three', 'four', 'five', 'six', 'seven', 'eight', 'nine']\n",
    "#j=0\n",
    "\n",
    "if not os.path.exists('/home/vishnu/Documents/Digit_data_train/'):\n",
    "    os.makedirs('/home/vishnu/Documents/Digit_data_train/train_label')\n",
    "\n",
    "#dir_path = Path('/home/vishnu/Documents/Digit_data_train/train_label/')\n",
    "#dir_path = r'/home/vishnu/Documents/Digit_data_train/train_label/'\n",
    "    \n",
    "for dirname, _, filenames in os.walk('/home/vishnu/Documents/Digit_data_train/train'):\n",
    "    filenames = sorted(filenames)\n",
    "    \n",
    "    \n",
    "    for filename in filenames:\n",
    "        fs, audiofile   =  wavfile.read(os.path.join(dirname,filename))  # Join path with wavfile\n",
    "        #print(len(audiofile))\n",
    "        extract_path  = filename.split('.')[-2]\n",
    "        extract_digit = extract_path.split('D')[-1]\n",
    "        \n",
    "        if len(extract_digit) == 2:\n",
    "            extract_digit = extract_path.split('D0')[-1]    \n",
    "        else:\n",
    "            extract_digit = extract_digit\n",
    "        file_name = filename.split('.')[-2]\n",
    "        folder_name = dirname.split('/')[-1]\n",
    "       # print(folder_name)\n",
    "        dir_path = os.path.join(f'/home/vishnu/Documents/Digit_data_train/train_label/{folder_name}')\n",
    "        if not os.path.exists(dir_path):\n",
    "            os.makedirs(dir_path)\n",
    "        #print(dir_path)\n",
    "        file_path = os.path.join(dir_path, file_name + '.lab')\n",
    "      #  print(file_path)\n",
    "        if os.path.exists(dir_path):\n",
    "            with open(file_path, \"w\") as f:\n",
    "                f.write(f'0\\t15\\tSIL\\n15\\t{len(audiofile)-15}\\t{hash[int(extract_digit)]}\\n{len(audiofile)-15}\\t{len(audiofile)}\\tSIL')\n",
    "\n",
    "        #print(dirname,filename, f\"Digit={hash[int(extract_digit)]}\")\n",
    "        #print(file_name)\n",
    "        #j=j+1\n",
    "#print(j)"
   ]
  },
  {
   "cell_type": "code",
   "execution_count": null,
   "id": "53cf05ec",
   "metadata": {},
   "outputs": [],
   "source": []
  }
 ],
 "metadata": {
  "kernelspec": {
   "display_name": "Python 3 (ipykernel)",
   "language": "python",
   "name": "python3"
  },
  "language_info": {
   "codemirror_mode": {
    "name": "ipython",
    "version": 3
   },
   "file_extension": ".py",
   "mimetype": "text/x-python",
   "name": "python",
   "nbconvert_exporter": "python",
   "pygments_lexer": "ipython3",
   "version": "3.10.6"
  }
 },
 "nbformat": 4,
 "nbformat_minor": 5
}
