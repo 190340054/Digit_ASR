{
 "cells": [
  {
   "cell_type": "code",
   "execution_count": 1,
   "id": "04286790",
   "metadata": {},
   "outputs": [
    {
     "ename": "NameError",
     "evalue": "name 'os' is not defined",
     "output_type": "error",
     "traceback": [
      "\u001b[0;31m---------------------------------------------------------------------------\u001b[0m",
      "\u001b[0;31mNameError\u001b[0m                                 Traceback (most recent call last)",
      "Cell \u001b[0;32mIn[1], line 1\u001b[0m\n\u001b[0;32m----> 1\u001b[0m \u001b[38;5;28;01mfor\u001b[39;00m dirname, _,filenames \u001b[38;5;129;01min\u001b[39;00m \u001b[43mos\u001b[49m\u001b[38;5;241m.\u001b[39mwalk(r_dir):\n\u001b[1;32m      2\u001b[0m     filenames \u001b[38;5;241m=\u001b[39m \u001b[38;5;28msorted\u001b[39m(filenames)\n\u001b[1;32m      3\u001b[0m     \u001b[38;5;28;01mfor\u001b[39;00m filename \u001b[38;5;129;01min\u001b[39;00m filenames:\n",
      "\u001b[0;31mNameError\u001b[0m: name 'os' is not defined"
     ]
    }
   ],
   "source": [
    "for dirname, _,filenames in os.walk(r_dir):\n",
    "    filenames = sorted(filenames)\n",
    "    for filename in filenames:\n",
    "        fs, audiofile   =  wavfile.read(os.path.join(dirname,filename))  # Join path with wavfile\n",
    "        \n",
    "        \n",
    "        if len(audiofile.shape) == 2:                                    # selecting single channel if it is sterio\n",
    "            print(f\"Number of channels = {len(audiofile.shape)}\")\n",
    "            print(f\"converted from sterio to mono wav file\")\n",
    "            s = audiofile[:,0]\n",
    "        else:\n",
    "            print(f\"Number of channels = {len(audiofile.shape)}\")\n",
    "            s = audiofile\n",
    "        \n",
    "        wavfile.write(os.path.join(dirname,filename), fs, s) "
   ]
  },
  {
   "cell_type": "code",
   "execution_count": null,
   "id": "b36dc62d",
   "metadata": {},
   "outputs": [],
   "source": []
  }
 ],
 "metadata": {
  "kernelspec": {
   "display_name": "Python 3 (ipykernel)",
   "language": "python",
   "name": "python3"
  },
  "language_info": {
   "codemirror_mode": {
    "name": "ipython",
    "version": 3
   },
   "file_extension": ".py",
   "mimetype": "text/x-python",
   "name": "python",
   "nbconvert_exporter": "python",
   "pygments_lexer": "ipython3",
   "version": "3.10.6"
  }
 },
 "nbformat": 4,
 "nbformat_minor": 5
}
